{
  "nbformat": 4,
  "nbformat_minor": 0,
  "metadata": {
    "colab": {
      "name": "Assignment-1",
      "provenance": [],
      "collapsed_sections": [],
      "authorship_tag": "ABX9TyOji92cf4AqUkWynLrTGuW4",
      "include_colab_link": true
    },
    "kernelspec": {
      "name": "python3",
      "display_name": "Python 3"
    },
    "language_info": {
      "name": "python"
    }
  },
  "cells": [
    {
      "cell_type": "markdown",
      "metadata": {
        "id": "view-in-github",
        "colab_type": "text"
      },
      "source": [
        "<a href=\"https://colab.research.google.com/github/18K-480/NLP/blob/main/Assignment_1.ipynb\" target=\"_parent\"><img src=\"https://colab.research.google.com/assets/colab-badge.svg\" alt=\"Open In Colab\"/></a>"
      ]
    },
    {
      "cell_type": "code",
      "metadata": {
        "colab": {
          "base_uri": "https://localhost:8080/"
        },
        "id": "QvzHAKQftifK",
        "outputId": "2f07c859-0569-4405-c6e4-ee6b6645d6b2"
      },
      "source": [
        "import nltk\n",
        "nltk.download('punkt')\n",
        "nltk.download('wordnet')"
      ],
      "execution_count": 12,
      "outputs": [
        {
          "output_type": "stream",
          "name": "stdout",
          "text": [
            "[nltk_data] Downloading package punkt to /root/nltk_data...\n",
            "[nltk_data]   Package punkt is already up-to-date!\n",
            "[nltk_data] Downloading package wordnet to /root/nltk_data...\n",
            "[nltk_data]   Unzipping corpora/wordnet.zip.\n"
          ]
        },
        {
          "output_type": "execute_result",
          "data": {
            "text/plain": [
              "True"
            ]
          },
          "metadata": {},
          "execution_count": 12
        }
      ]
    },
    {
      "cell_type": "code",
      "metadata": {
        "colab": {
          "base_uri": "https://localhost:8080/"
        },
        "id": "dkiZRjm_uuEk",
        "outputId": "b8edbb7b-5f51-41cc-cdfd-3a4a4bd29b7d"
      },
      "source": [
        "#1.Sentence tokenizing\n",
        "from nltk.tokenize import sent_tokenize\n",
        "text = '''Are  you  fascinated  by  the  amount  of  text  data  available  on  the  internet?  Are  you looking  for  ways  to  work  with  this  text  data  but  aren’t  sure  where  to  begin? Machines, after all, recognize numbers, not the letters of our language. And that can be a tricky landscape to navigate in machine learning.'''\n",
        "text1=''\n",
        "text1=sent_tokenize(text)\n",
        "for i in text1:\n",
        "    print(i)"
      ],
      "execution_count": 13,
      "outputs": [
        {
          "output_type": "stream",
          "name": "stdout",
          "text": [
            "Are  you  fascinated  by  the  amount  of  text  data  available  on  the  internet?\n",
            "Are  you looking  for  ways  to  work  with  this  text  data  but  aren’t  sure  where  to  begin?\n",
            "Machines, after all, recognize numbers, not the letters of our language.\n",
            "And that can be a tricky landscape to navigate in machine learning.\n"
          ]
        }
      ]
    },
    {
      "cell_type": "code",
      "metadata": {
        "colab": {
          "base_uri": "https://localhost:8080/"
        },
        "id": "1KyEjFvJuuBx",
        "outputId": "b3ab7d6a-faa0-4022-b71c-8e9ccc33ecc2"
      },
      "source": [
        "#2.Word splitting\n",
        "from nltk.tokenize import word_tokenize\n",
        "text =  '''Are  you  fascinated  by  the  amount  of  text  data  available  on  the  internet?  Are  you looking  for  ways  to  work  with  this  text  data  but  aren’t  sure  where  to  begin? Machines, after all, recognize numbers, not the letters of our language. And that can be a tricky landscape to navigate in machine learning.'''\n",
        "text1=''\n",
        "text1=word_tokenize(text)\n",
        "for i in text1:\n",
        "    print(i)"
      ],
      "execution_count": 14,
      "outputs": [
        {
          "output_type": "stream",
          "name": "stdout",
          "text": [
            "Are\n",
            "you\n",
            "fascinated\n",
            "by\n",
            "the\n",
            "amount\n",
            "of\n",
            "text\n",
            "data\n",
            "available\n",
            "on\n",
            "the\n",
            "internet\n",
            "?\n",
            "Are\n",
            "you\n",
            "looking\n",
            "for\n",
            "ways\n",
            "to\n",
            "work\n",
            "with\n",
            "this\n",
            "text\n",
            "data\n",
            "but\n",
            "aren\n",
            "’\n",
            "t\n",
            "sure\n",
            "where\n",
            "to\n",
            "begin\n",
            "?\n",
            "Machines\n",
            ",\n",
            "after\n",
            "all\n",
            ",\n",
            "recognize\n",
            "numbers\n",
            ",\n",
            "not\n",
            "the\n",
            "letters\n",
            "of\n",
            "our\n",
            "language\n",
            ".\n",
            "And\n",
            "that\n",
            "can\n",
            "be\n",
            "a\n",
            "tricky\n",
            "landscape\n",
            "to\n",
            "navigate\n",
            "in\n",
            "machine\n",
            "learning\n",
            ".\n"
          ]
        }
      ]
    },
    {
      "cell_type": "code",
      "metadata": {
        "colab": {
          "base_uri": "https://localhost:8080/"
        },
        "id": "MJwyzPzOut9_",
        "outputId": "1ca97ed6-6b0e-4204-d27a-c6398b25c15a"
      },
      "source": [
        "#3. Stem words\n",
        "from nltk.stem import PorterStemmer \n",
        "from nltk.tokenize import word_tokenize\n",
        "words=[\"cats\",\"trouble\",\"troubling\",\"troubled\",\"having\",\"Corriendo\",\"at\",\"was\"]\n",
        "x=PorterStemmer()\n",
        "for i in words:\n",
        "    print(i,x.stem(i))"
      ],
      "execution_count": 17,
      "outputs": [
        {
          "output_type": "stream",
          "name": "stdout",
          "text": [
            "cats cat\n",
            "trouble troubl\n",
            "troubling troubl\n",
            "troubled troubl\n",
            "having have\n",
            "Corriendo corriendo\n",
            "at at\n",
            "was wa\n"
          ]
        }
      ]
    },
    {
      "cell_type": "code",
      "metadata": {
        "colab": {
          "base_uri": "https://localhost:8080/"
        },
        "id": "3qR_HmHiut8n",
        "outputId": "892f1cd9-7774-4c7e-b8e8-4304e41f0e27"
      },
      "source": [
        "#3. Lemma words\n",
        "from nltk.stem import WordNetLemmatizer\n",
        "words=[\"cats\",\"trouble\",\"troubling\",\"troubled\",\"having\",\"Corriendo\",\"at\",\"was\"]\n",
        "x= WordNetLemmatizer()\n",
        "for i in words:\n",
        "    print(i,x.lemmatize(i))"
      ],
      "execution_count": 18,
      "outputs": [
        {
          "output_type": "stream",
          "name": "stdout",
          "text": [
            "cats cat\n",
            "trouble trouble\n",
            "troubling troubling\n",
            "troubled troubled\n",
            "having having\n",
            "Corriendo Corriendo\n",
            "at at\n",
            "was wa\n"
          ]
        }
      ]
    },
    {
      "cell_type": "code",
      "metadata": {
        "colab": {
          "base_uri": "https://localhost:8080/"
        },
        "id": "gCVaH9bput5d",
        "outputId": "0ddab928-23e3-470a-8f84-d1688d77775e"
      },
      "source": [
        "import nltk\n",
        "nltk.download('stopwords')"
      ],
      "execution_count": 7,
      "outputs": [
        {
          "output_type": "stream",
          "name": "stdout",
          "text": [
            "[nltk_data] Downloading package stopwords to /root/nltk_data...\n",
            "[nltk_data]   Unzipping corpora/stopwords.zip.\n"
          ]
        },
        {
          "output_type": "execute_result",
          "data": {
            "text/plain": [
              "True"
            ]
          },
          "metadata": {},
          "execution_count": 7
        }
      ]
    },
    {
      "cell_type": "code",
      "metadata": {
        "colab": {
          "base_uri": "https://localhost:8080/"
        },
        "id": "nSLPMFwEut31",
        "outputId": "6f5a4aaf-2311-469f-d1dd-0ef4009d13ee"
      },
      "source": [
        "#4. Stop words\n",
        "from nltk.corpus import stopwords\n",
        "stop_words=set(stopwords.words(\"english\"))\n",
        "text=\"\"\"\n",
        "“The NLTK library is one of the oldest and most commonly used Python libraries for Natural Language Processing. NLTK supports stop word removal, and you can find the list of stop words in the corpus module. To remove stop words from a sentence, you can divide your text into words and then remove the word if it exits in the list of stop words provided by NLTK.”\n",
        "\"\"\"\n",
        "words=word_tokenize(text)\n",
        "l=[]\n",
        "for i in words:\n",
        "    if i not in stop_words:\n",
        "        l.append(i)\n",
        "print(l)"
      ],
      "execution_count": 19,
      "outputs": [
        {
          "output_type": "stream",
          "name": "stdout",
          "text": [
            "['“', 'The', 'NLTK', 'library', 'one', 'oldest', 'commonly', 'used', 'Python', 'libraries', 'Natural', 'Language', 'Processing', '.', 'NLTK', 'supports', 'stop', 'word', 'removal', ',', 'find', 'list', 'stop', 'words', 'corpus', 'module', '.', 'To', 'remove', 'stop', 'words', 'sentence', ',', 'divide', 'text', 'words', 'remove', 'word', 'exits', 'list', 'stop', 'words', 'provided', 'NLTK', '.', '”']\n"
          ]
        }
      ]
    },
    {
      "cell_type": "code",
      "metadata": {
        "colab": {
          "base_uri": "https://localhost:8080/"
        },
        "id": "APfQM3iHut0s",
        "outputId": "2365f3cc-4020-4f6f-fad2-1e946f11596a"
      },
      "source": [
        "#5.Printing frequency of each word\n",
        "import nltk\n",
        "from nltk.corpus import webtext\n",
        "from nltk.probability import FreqDist\n",
        "from nltk.tokenize import word_tokenize\n",
        "text=\"\"\"\n",
        "“The NLTK library is one of the oldest and most commonly used Python libraries for Natural Language Processing. NLTK supports stop word removal, and you can find the list of stop words in the corpus module. To remove stop words from a sentence, you can divide your text into words and then remove the word if it exits in the list of stop words provided by NLTK.”\n",
        "\"\"\"\n",
        " \n",
        "w= word_tokenize(text)\n",
        "d = nltk.FreqDist(w)\n",
        "fq = dict([(m, n) for m, n in d.items() if len(m) > 3])\n",
        "for i in sorted(fq):\n",
        "    print(\"%s: %s\" % (i, fq[i]))"
      ],
      "execution_count": 20,
      "outputs": [
        {
          "output_type": "stream",
          "name": "stdout",
          "text": [
            "Language: 1\n",
            "NLTK: 3\n",
            "Natural: 1\n",
            "Processing: 1\n",
            "Python: 1\n",
            "commonly: 1\n",
            "corpus: 1\n",
            "divide: 1\n",
            "exits: 1\n",
            "find: 1\n",
            "from: 1\n",
            "into: 1\n",
            "libraries: 1\n",
            "library: 1\n",
            "list: 2\n",
            "module: 1\n",
            "most: 1\n",
            "oldest: 1\n",
            "provided: 1\n",
            "removal: 1\n",
            "remove: 2\n",
            "sentence: 1\n",
            "stop: 4\n",
            "supports: 1\n",
            "text: 1\n",
            "then: 1\n",
            "used: 1\n",
            "word: 2\n",
            "words: 4\n",
            "your: 1\n"
          ]
        }
      ]
    }
  ]
}